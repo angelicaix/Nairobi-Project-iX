{
 "cells": [
  {
   "cell_type": "markdown",
   "id": "0c193094",
   "metadata": {},
   "source": [
    "\n",
    "# <font color='#eb3483'> Analysis Plan/What we have done so far </font>\n",
    "\n",
    "### <font color='#eb3483'> Description </font>\n",
    "\n",
    "We were given three data sets from the Zindi website: test_questions.csv, sample_submission.csv, and train_revised.csv.\n",
    "The test_questions.csv contains the data that we need to create a model for. The sample_submission.csv contains an example of what our model should spit out, and the train_revised.csv gives us data on tickets that were sold on mobiticket.\n",
    "\n",
    "\n",
    "\n",
    " ### <font color='#eb3483'> Goal </font>   \n",
    "Remember that the end goal of this project is to use the train_revised data to make a model to predict the number of tickets that will be sold on bus rides contained in the test_questions data. You might have already noticed that the train_revised data does not immediately show the number of tickets that was sold for each ride_id. Finding the number of tickets sold for each ride_id should be the first step of our data cleaning. I (Joe Tatarka) have worked on calculating the tickets and I will upload this data later today.\n",
    "\n",
    "### <font color='#eb3483'> Data dictionary </font>\n",
    "\n",
    "\n",
    "The variables that exist on the dataset are:\n",
    "\n",
    "```\n",
    "* ride_id             int64\n",
    "* seat_number        object\n",
    "* payment_method     object\n",
    "* payment_receipt    object\n",
    "* travel_date        object\n",
    "* travel_time        object\n",
    "* travel_from        object\n",
    "* travel_to          object\n",
    "* car_type           object\n",
    "* max_capacity        int64\n",
    "```\n",
    "\n",
    "### <font color='#eb3483'> Fixing up the data </font>\n",
    "\n",
    "We can delete the seat_number, payment_method, payment_receipt, and travel_to columns immediately. (Note: DO NOT DELETE THE RIDE ID COLUMN, IT IS IMPORTANT DATA). We then need to calculate the number of tickets sold for each ride_id and add that as a column. \n",
    "\n",
    "Another note: car_type and max_capacity columns are redundant (bus = 49 capacity, shuttle = 11 capacity) so we should get rid of one of them.\n",
    "\n",
    "We also see that the travel_date and travel_time columns are listed as objects but they should be be a time series data type. I think that it would be helpful to change it to this type of data before doing any data analysis. I recommend creating a single column with the travel_date and the travel_time data together and then turning that into a time series data type, for example an entry from this new column could have an entry of (17-10-17 7:15). There are commands that one can use with time series data that makes it much easier to play around with. I saw that someone grouped the time of day into categories like morning, afternoon, and night; I think that this is a good idea.\n",
    "\n",
    "We should also add a column that gives the day of the week for each ride_id. \n",
    "\n",
    "We probably should also change the ride_id type from int64 to object type.\n",
    "\n",
    "### <font color='#eb3483'> Data Analysis </font>\n",
    "\n",
    "We can start toying around with the data, looking for outliers in the numerical data and stuff."
   ]
  }
 ],
 "metadata": {
  "kernelspec": {
   "display_name": "Python 3",
   "language": "python",
   "name": "python3"
  },
  "language_info": {
   "codemirror_mode": {
    "name": "ipython",
    "version": 3
   },
   "file_extension": ".py",
   "mimetype": "text/x-python",
   "name": "python",
   "nbconvert_exporter": "python",
   "pygments_lexer": "ipython3",
   "version": "3.8.8"
  }
 },
 "nbformat": 4,
 "nbformat_minor": 5
}
