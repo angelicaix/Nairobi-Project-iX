{
 "cells": [
  {
   "cell_type": "code",
   "execution_count": 113,
   "id": "b4ecec4f",
   "metadata": {},
   "outputs": [],
   "source": [
    "import pandas as pd\n",
    "import seaborn as sns\n",
    "\n",
    "import warnings\n",
    "warnings.filterwarnings(\"ignore\")"
   ]
  },
  {
   "cell_type": "code",
   "execution_count": 114,
   "id": "4a580778",
   "metadata": {},
   "outputs": [
    {
     "data": {
      "text/html": [
       "<div>\n",
       "<style scoped>\n",
       "    .dataframe tbody tr th:only-of-type {\n",
       "        vertical-align: middle;\n",
       "    }\n",
       "\n",
       "    .dataframe tbody tr th {\n",
       "        vertical-align: top;\n",
       "    }\n",
       "\n",
       "    .dataframe thead th {\n",
       "        text-align: right;\n",
       "    }\n",
       "</style>\n",
       "<table border=\"1\" class=\"dataframe\">\n",
       "  <thead>\n",
       "    <tr style=\"text-align: right;\">\n",
       "      <th></th>\n",
       "      <th>ride_id</th>\n",
       "      <th>seat_number</th>\n",
       "      <th>payment_method</th>\n",
       "      <th>payment_receipt</th>\n",
       "      <th>travel_date</th>\n",
       "      <th>travel_time</th>\n",
       "      <th>travel_from</th>\n",
       "      <th>travel_to</th>\n",
       "      <th>car_type</th>\n",
       "      <th>max_capacity</th>\n",
       "    </tr>\n",
       "  </thead>\n",
       "  <tbody>\n",
       "    <tr>\n",
       "      <th>0</th>\n",
       "      <td>1442</td>\n",
       "      <td>15A</td>\n",
       "      <td>Mpesa</td>\n",
       "      <td>UZUEHCBUSO</td>\n",
       "      <td>17-10-17</td>\n",
       "      <td>7:15</td>\n",
       "      <td>Migori</td>\n",
       "      <td>Nairobi</td>\n",
       "      <td>Bus</td>\n",
       "      <td>49</td>\n",
       "    </tr>\n",
       "    <tr>\n",
       "      <th>1</th>\n",
       "      <td>5437</td>\n",
       "      <td>14A</td>\n",
       "      <td>Mpesa</td>\n",
       "      <td>TIHLBUSGTE</td>\n",
       "      <td>19-11-17</td>\n",
       "      <td>7:12</td>\n",
       "      <td>Migori</td>\n",
       "      <td>Nairobi</td>\n",
       "      <td>Bus</td>\n",
       "      <td>49</td>\n",
       "    </tr>\n",
       "    <tr>\n",
       "      <th>2</th>\n",
       "      <td>5710</td>\n",
       "      <td>8B</td>\n",
       "      <td>Mpesa</td>\n",
       "      <td>EQX8Q5G19O</td>\n",
       "      <td>26-11-17</td>\n",
       "      <td>7:05</td>\n",
       "      <td>Keroka</td>\n",
       "      <td>Nairobi</td>\n",
       "      <td>Bus</td>\n",
       "      <td>49</td>\n",
       "    </tr>\n",
       "    <tr>\n",
       "      <th>3</th>\n",
       "      <td>5777</td>\n",
       "      <td>19A</td>\n",
       "      <td>Mpesa</td>\n",
       "      <td>SGP18CL0ME</td>\n",
       "      <td>27-11-17</td>\n",
       "      <td>7:10</td>\n",
       "      <td>Homa Bay</td>\n",
       "      <td>Nairobi</td>\n",
       "      <td>Bus</td>\n",
       "      <td>49</td>\n",
       "    </tr>\n",
       "    <tr>\n",
       "      <th>4</th>\n",
       "      <td>5778</td>\n",
       "      <td>11A</td>\n",
       "      <td>Mpesa</td>\n",
       "      <td>BM97HFRGL9</td>\n",
       "      <td>27-11-17</td>\n",
       "      <td>7:12</td>\n",
       "      <td>Migori</td>\n",
       "      <td>Nairobi</td>\n",
       "      <td>Bus</td>\n",
       "      <td>49</td>\n",
       "    </tr>\n",
       "  </tbody>\n",
       "</table>\n",
       "</div>"
      ],
      "text/plain": [
       "   ride_id seat_number payment_method payment_receipt travel_date travel_time  \\\n",
       "0     1442         15A          Mpesa      UZUEHCBUSO    17-10-17        7:15   \n",
       "1     5437         14A          Mpesa      TIHLBUSGTE    19-11-17        7:12   \n",
       "2     5710          8B          Mpesa      EQX8Q5G19O    26-11-17        7:05   \n",
       "3     5777         19A          Mpesa      SGP18CL0ME    27-11-17        7:10   \n",
       "4     5778         11A          Mpesa      BM97HFRGL9    27-11-17        7:12   \n",
       "\n",
       "  travel_from travel_to car_type  max_capacity  \n",
       "0      Migori   Nairobi      Bus            49  \n",
       "1      Migori   Nairobi      Bus            49  \n",
       "2      Keroka   Nairobi      Bus            49  \n",
       "3    Homa Bay   Nairobi      Bus            49  \n",
       "4      Migori   Nairobi      Bus            49  "
      ]
     },
     "execution_count": 114,
     "metadata": {},
     "output_type": "execute_result"
    }
   ],
   "source": [
    "# checking the data\n",
    "train_revised = pd.read_csv(\"Data/train_revised.csv\")\n",
    "train_revised.head()"
   ]
  },
  {
   "cell_type": "code",
   "execution_count": 115,
   "id": "a5a5f933",
   "metadata": {},
   "outputs": [],
   "source": [
    "# get rid of columns we don't need\n",
    "train_revised.drop(columns = [\"seat_number\", \"payment_method\", \"payment_receipt\", \"travel_to\"], inplace=True)"
   ]
  },
  {
   "cell_type": "code",
   "execution_count": 116,
   "id": "aa6c513f",
   "metadata": {},
   "outputs": [],
   "source": [
    "# need to add column for number of tickets sold for each ride_id\n",
    "number_of_ticket = train_revised.groupby(\"ride_id\").travel_time.count()"
   ]
  },
  {
   "cell_type": "code",
   "execution_count": 117,
   "id": "a9acc35f",
   "metadata": {},
   "outputs": [],
   "source": [
    "# drop duplicate rows. We want each ride_id to be a unique observation.\n",
    "train_revised.drop_duplicates(inplace=True)"
   ]
  },
  {
   "cell_type": "code",
   "execution_count": 118,
   "id": "13931945",
   "metadata": {},
   "outputs": [],
   "source": [
    "# set index to ride_id\n",
    "train_revised.set_index(\"ride_id\", inplace=True)"
   ]
  },
  {
   "cell_type": "code",
   "execution_count": 119,
   "id": "c20904f9",
   "metadata": {},
   "outputs": [],
   "source": [
    "# add ticket column\n",
    "train_revised[\"number_of_ticket\"] = number_of_ticket"
   ]
  },
  {
   "cell_type": "code",
   "execution_count": 120,
   "id": "ab0a69d7",
   "metadata": {},
   "outputs": [
    {
     "data": {
      "text/html": [
       "<div>\n",
       "<style scoped>\n",
       "    .dataframe tbody tr th:only-of-type {\n",
       "        vertical-align: middle;\n",
       "    }\n",
       "\n",
       "    .dataframe tbody tr th {\n",
       "        vertical-align: top;\n",
       "    }\n",
       "\n",
       "    .dataframe thead th {\n",
       "        text-align: right;\n",
       "    }\n",
       "</style>\n",
       "<table border=\"1\" class=\"dataframe\">\n",
       "  <thead>\n",
       "    <tr style=\"text-align: right;\">\n",
       "      <th></th>\n",
       "      <th>travel_date</th>\n",
       "      <th>travel_time</th>\n",
       "      <th>travel_from</th>\n",
       "      <th>car_type</th>\n",
       "      <th>max_capacity</th>\n",
       "      <th>number_of_ticket</th>\n",
       "    </tr>\n",
       "    <tr>\n",
       "      <th>ride_id</th>\n",
       "      <th></th>\n",
       "      <th></th>\n",
       "      <th></th>\n",
       "      <th></th>\n",
       "      <th></th>\n",
       "      <th></th>\n",
       "    </tr>\n",
       "  </thead>\n",
       "  <tbody>\n",
       "    <tr>\n",
       "      <th>1442</th>\n",
       "      <td>17-10-17</td>\n",
       "      <td>7:15</td>\n",
       "      <td>Migori</td>\n",
       "      <td>Bus</td>\n",
       "      <td>49</td>\n",
       "      <td>1</td>\n",
       "    </tr>\n",
       "    <tr>\n",
       "      <th>5437</th>\n",
       "      <td>19-11-17</td>\n",
       "      <td>7:12</td>\n",
       "      <td>Migori</td>\n",
       "      <td>Bus</td>\n",
       "      <td>49</td>\n",
       "      <td>1</td>\n",
       "    </tr>\n",
       "    <tr>\n",
       "      <th>5710</th>\n",
       "      <td>26-11-17</td>\n",
       "      <td>7:05</td>\n",
       "      <td>Keroka</td>\n",
       "      <td>Bus</td>\n",
       "      <td>49</td>\n",
       "      <td>1</td>\n",
       "    </tr>\n",
       "    <tr>\n",
       "      <th>5777</th>\n",
       "      <td>27-11-17</td>\n",
       "      <td>7:10</td>\n",
       "      <td>Homa Bay</td>\n",
       "      <td>Bus</td>\n",
       "      <td>49</td>\n",
       "      <td>5</td>\n",
       "    </tr>\n",
       "    <tr>\n",
       "      <th>5778</th>\n",
       "      <td>27-11-17</td>\n",
       "      <td>7:12</td>\n",
       "      <td>Migori</td>\n",
       "      <td>Bus</td>\n",
       "      <td>49</td>\n",
       "      <td>31</td>\n",
       "    </tr>\n",
       "  </tbody>\n",
       "</table>\n",
       "</div>"
      ],
      "text/plain": [
       "        travel_date travel_time travel_from car_type  max_capacity  \\\n",
       "ride_id                                                              \n",
       "1442       17-10-17        7:15      Migori      Bus            49   \n",
       "5437       19-11-17        7:12      Migori      Bus            49   \n",
       "5710       26-11-17        7:05      Keroka      Bus            49   \n",
       "5777       27-11-17        7:10    Homa Bay      Bus            49   \n",
       "5778       27-11-17        7:12      Migori      Bus            49   \n",
       "\n",
       "         number_of_ticket  \n",
       "ride_id                    \n",
       "1442                    1  \n",
       "5437                    1  \n",
       "5710                    1  \n",
       "5777                    5  \n",
       "5778                   31  "
      ]
     },
     "execution_count": 120,
     "metadata": {},
     "output_type": "execute_result"
    }
   ],
   "source": [
    "train_revised.head()"
   ]
  },
  {
   "cell_type": "code",
   "execution_count": 121,
   "id": "98ce212e",
   "metadata": {},
   "outputs": [],
   "source": [
    "# now we want to add a column with the time stuff together and make it a time series data type\n",
    "train_revised[\"full_date\"] = train_revised.travel_date + \" \" + train_revised.travel_time "
   ]
  },
  {
   "cell_type": "code",
   "execution_count": 122,
   "id": "d6ba3c8b",
   "metadata": {},
   "outputs": [
    {
     "data": {
      "text/html": [
       "<div>\n",
       "<style scoped>\n",
       "    .dataframe tbody tr th:only-of-type {\n",
       "        vertical-align: middle;\n",
       "    }\n",
       "\n",
       "    .dataframe tbody tr th {\n",
       "        vertical-align: top;\n",
       "    }\n",
       "\n",
       "    .dataframe thead th {\n",
       "        text-align: right;\n",
       "    }\n",
       "</style>\n",
       "<table border=\"1\" class=\"dataframe\">\n",
       "  <thead>\n",
       "    <tr style=\"text-align: right;\">\n",
       "      <th></th>\n",
       "      <th>travel_date</th>\n",
       "      <th>travel_time</th>\n",
       "      <th>travel_from</th>\n",
       "      <th>car_type</th>\n",
       "      <th>max_capacity</th>\n",
       "      <th>number_of_ticket</th>\n",
       "      <th>full_date</th>\n",
       "    </tr>\n",
       "    <tr>\n",
       "      <th>ride_id</th>\n",
       "      <th></th>\n",
       "      <th></th>\n",
       "      <th></th>\n",
       "      <th></th>\n",
       "      <th></th>\n",
       "      <th></th>\n",
       "      <th></th>\n",
       "    </tr>\n",
       "  </thead>\n",
       "  <tbody>\n",
       "    <tr>\n",
       "      <th>1442</th>\n",
       "      <td>17-10-17</td>\n",
       "      <td>7:15</td>\n",
       "      <td>Migori</td>\n",
       "      <td>Bus</td>\n",
       "      <td>49</td>\n",
       "      <td>1</td>\n",
       "      <td>17-10-17 7:15</td>\n",
       "    </tr>\n",
       "    <tr>\n",
       "      <th>5437</th>\n",
       "      <td>19-11-17</td>\n",
       "      <td>7:12</td>\n",
       "      <td>Migori</td>\n",
       "      <td>Bus</td>\n",
       "      <td>49</td>\n",
       "      <td>1</td>\n",
       "      <td>19-11-17 7:12</td>\n",
       "    </tr>\n",
       "    <tr>\n",
       "      <th>5710</th>\n",
       "      <td>26-11-17</td>\n",
       "      <td>7:05</td>\n",
       "      <td>Keroka</td>\n",
       "      <td>Bus</td>\n",
       "      <td>49</td>\n",
       "      <td>1</td>\n",
       "      <td>26-11-17 7:05</td>\n",
       "    </tr>\n",
       "    <tr>\n",
       "      <th>5777</th>\n",
       "      <td>27-11-17</td>\n",
       "      <td>7:10</td>\n",
       "      <td>Homa Bay</td>\n",
       "      <td>Bus</td>\n",
       "      <td>49</td>\n",
       "      <td>5</td>\n",
       "      <td>27-11-17 7:10</td>\n",
       "    </tr>\n",
       "    <tr>\n",
       "      <th>5778</th>\n",
       "      <td>27-11-17</td>\n",
       "      <td>7:12</td>\n",
       "      <td>Migori</td>\n",
       "      <td>Bus</td>\n",
       "      <td>49</td>\n",
       "      <td>31</td>\n",
       "      <td>27-11-17 7:12</td>\n",
       "    </tr>\n",
       "  </tbody>\n",
       "</table>\n",
       "</div>"
      ],
      "text/plain": [
       "        travel_date travel_time travel_from car_type  max_capacity  \\\n",
       "ride_id                                                              \n",
       "1442       17-10-17        7:15      Migori      Bus            49   \n",
       "5437       19-11-17        7:12      Migori      Bus            49   \n",
       "5710       26-11-17        7:05      Keroka      Bus            49   \n",
       "5777       27-11-17        7:10    Homa Bay      Bus            49   \n",
       "5778       27-11-17        7:12      Migori      Bus            49   \n",
       "\n",
       "         number_of_ticket      full_date  \n",
       "ride_id                                   \n",
       "1442                    1  17-10-17 7:15  \n",
       "5437                    1  19-11-17 7:12  \n",
       "5710                    1  26-11-17 7:05  \n",
       "5777                    5  27-11-17 7:10  \n",
       "5778                   31  27-11-17 7:12  "
      ]
     },
     "execution_count": 122,
     "metadata": {},
     "output_type": "execute_result"
    }
   ],
   "source": [
    "train_revised.head()"
   ]
  },
  {
   "cell_type": "code",
   "execution_count": 123,
   "id": "b8ab839a",
   "metadata": {},
   "outputs": [],
   "source": [
    "# change to time series data type\n",
    "train_revised.full_date = pd.to_datetime(train_revised.full_date, infer_datetime_format=True)"
   ]
  },
  {
   "cell_type": "code",
   "execution_count": 124,
   "id": "0f17ad72",
   "metadata": {},
   "outputs": [],
   "source": [
    "# add column with week day of ride_id\n",
    "train_revised[\"day_of_week\"] = train_revised.full_date.dt.weekday"
   ]
  },
  {
   "cell_type": "code",
   "execution_count": 125,
   "id": "47bb021b",
   "metadata": {},
   "outputs": [],
   "source": [
    "# add column with month of ride_id\n",
    "train_revised[\"month\"]= train_revised.full_date.dt.month"
   ]
  },
  {
   "cell_type": "code",
   "execution_count": 126,
   "id": "95083d75",
   "metadata": {},
   "outputs": [],
   "source": [
    "# now its time to group times in morning, afternoon, evening, and night. Feel free to change around the bounds if you like.\n",
    "\n",
    "def get_travel_time_type(hour):\n",
    "    return (\n",
    "        \"morning\" if 5 <= hour <= 11\n",
    "        else\n",
    "        \"afternoon\" if 12 <= hour <= 17\n",
    "        else\n",
    "        \"evening\" if 18 <= hour <= 22\n",
    "        else\n",
    "        \"night\"\n",
    "    )\n",
    "train_revised['travel_time_type'] = train_revised.full_date.apply(lambda x: get_travel_time_type(x.hour)) "
   ]
  },
  {
   "cell_type": "code",
   "execution_count": 127,
   "id": "ecdf4c3a",
   "metadata": {},
   "outputs": [
    {
     "data": {
      "text/html": [
       "<div>\n",
       "<style scoped>\n",
       "    .dataframe tbody tr th:only-of-type {\n",
       "        vertical-align: middle;\n",
       "    }\n",
       "\n",
       "    .dataframe tbody tr th {\n",
       "        vertical-align: top;\n",
       "    }\n",
       "\n",
       "    .dataframe thead th {\n",
       "        text-align: right;\n",
       "    }\n",
       "</style>\n",
       "<table border=\"1\" class=\"dataframe\">\n",
       "  <thead>\n",
       "    <tr style=\"text-align: right;\">\n",
       "      <th></th>\n",
       "      <th>travel_date</th>\n",
       "      <th>travel_time</th>\n",
       "      <th>travel_from</th>\n",
       "      <th>car_type</th>\n",
       "      <th>max_capacity</th>\n",
       "      <th>number_of_ticket</th>\n",
       "      <th>full_date</th>\n",
       "      <th>day_of_week</th>\n",
       "      <th>month</th>\n",
       "      <th>travel_time_type</th>\n",
       "    </tr>\n",
       "    <tr>\n",
       "      <th>ride_id</th>\n",
       "      <th></th>\n",
       "      <th></th>\n",
       "      <th></th>\n",
       "      <th></th>\n",
       "      <th></th>\n",
       "      <th></th>\n",
       "      <th></th>\n",
       "      <th></th>\n",
       "      <th></th>\n",
       "      <th></th>\n",
       "    </tr>\n",
       "  </thead>\n",
       "  <tbody>\n",
       "    <tr>\n",
       "      <th>1442</th>\n",
       "      <td>17-10-17</td>\n",
       "      <td>7:15</td>\n",
       "      <td>Migori</td>\n",
       "      <td>Bus</td>\n",
       "      <td>49</td>\n",
       "      <td>1</td>\n",
       "      <td>2017-10-17 07:15:00</td>\n",
       "      <td>1</td>\n",
       "      <td>10</td>\n",
       "      <td>morning</td>\n",
       "    </tr>\n",
       "    <tr>\n",
       "      <th>5437</th>\n",
       "      <td>19-11-17</td>\n",
       "      <td>7:12</td>\n",
       "      <td>Migori</td>\n",
       "      <td>Bus</td>\n",
       "      <td>49</td>\n",
       "      <td>1</td>\n",
       "      <td>2017-11-19 07:12:00</td>\n",
       "      <td>6</td>\n",
       "      <td>11</td>\n",
       "      <td>morning</td>\n",
       "    </tr>\n",
       "    <tr>\n",
       "      <th>5710</th>\n",
       "      <td>26-11-17</td>\n",
       "      <td>7:05</td>\n",
       "      <td>Keroka</td>\n",
       "      <td>Bus</td>\n",
       "      <td>49</td>\n",
       "      <td>1</td>\n",
       "      <td>2017-11-26 07:05:00</td>\n",
       "      <td>6</td>\n",
       "      <td>11</td>\n",
       "      <td>morning</td>\n",
       "    </tr>\n",
       "    <tr>\n",
       "      <th>5777</th>\n",
       "      <td>27-11-17</td>\n",
       "      <td>7:10</td>\n",
       "      <td>Homa Bay</td>\n",
       "      <td>Bus</td>\n",
       "      <td>49</td>\n",
       "      <td>5</td>\n",
       "      <td>2017-11-27 07:10:00</td>\n",
       "      <td>0</td>\n",
       "      <td>11</td>\n",
       "      <td>morning</td>\n",
       "    </tr>\n",
       "    <tr>\n",
       "      <th>5778</th>\n",
       "      <td>27-11-17</td>\n",
       "      <td>7:12</td>\n",
       "      <td>Migori</td>\n",
       "      <td>Bus</td>\n",
       "      <td>49</td>\n",
       "      <td>31</td>\n",
       "      <td>2017-11-27 07:12:00</td>\n",
       "      <td>0</td>\n",
       "      <td>11</td>\n",
       "      <td>morning</td>\n",
       "    </tr>\n",
       "  </tbody>\n",
       "</table>\n",
       "</div>"
      ],
      "text/plain": [
       "        travel_date travel_time travel_from car_type  max_capacity  \\\n",
       "ride_id                                                              \n",
       "1442       17-10-17        7:15      Migori      Bus            49   \n",
       "5437       19-11-17        7:12      Migori      Bus            49   \n",
       "5710       26-11-17        7:05      Keroka      Bus            49   \n",
       "5777       27-11-17        7:10    Homa Bay      Bus            49   \n",
       "5778       27-11-17        7:12      Migori      Bus            49   \n",
       "\n",
       "         number_of_ticket           full_date  day_of_week  month  \\\n",
       "ride_id                                                             \n",
       "1442                    1 2017-10-17 07:15:00            1     10   \n",
       "5437                    1 2017-11-19 07:12:00            6     11   \n",
       "5710                    1 2017-11-26 07:05:00            6     11   \n",
       "5777                    5 2017-11-27 07:10:00            0     11   \n",
       "5778                   31 2017-11-27 07:12:00            0     11   \n",
       "\n",
       "        travel_time_type  \n",
       "ride_id                   \n",
       "1442             morning  \n",
       "5437             morning  \n",
       "5710             morning  \n",
       "5777             morning  \n",
       "5778             morning  "
      ]
     },
     "execution_count": 127,
     "metadata": {},
     "output_type": "execute_result"
    }
   ],
   "source": [
    "train_revised.head()"
   ]
  },
  {
   "cell_type": "code",
   "execution_count": 128,
   "id": "562254b6",
   "metadata": {},
   "outputs": [],
   "source": [
    "# getting rid of columns we don't need\n",
    "#If you think we need the travel_time and travel_date columns seperately feel free to edit this\n",
    "train_revised.drop(columns = [\"travel_time\", \"travel_date\", \"car_type\"], inplace=True)"
   ]
  },
  {
   "cell_type": "code",
   "execution_count": 129,
   "id": "cc4f6c5b",
   "metadata": {},
   "outputs": [],
   "source": [
    "# making month and day of week columns more easily readable\n",
    "train_revised.day_of_week.replace({0:\"Monday\", 1:\"Tuesday\", 2:\"Wednesday\", 3:\"Thursday\", 4:\"Friday\", \n",
    "                                   5:\"Saturday\", 6:\"Sunday\"}, inplace=True)\n",
    "train_revised.month.replace({1:\"January\", 2:\"February\", 3:\"March\", 4:\"April\", 5:\"May\", \n",
    "                                   6:\"June\", 7:\"July\", 8:\"August\", 9:\"September\", 10:\"October\", 11:\"November\", 12:\"December\"}, inplace=True)"
   ]
  },
  {
   "cell_type": "code",
   "execution_count": 130,
   "id": "6faac82d",
   "metadata": {},
   "outputs": [
    {
     "data": {
      "text/html": [
       "<div>\n",
       "<style scoped>\n",
       "    .dataframe tbody tr th:only-of-type {\n",
       "        vertical-align: middle;\n",
       "    }\n",
       "\n",
       "    .dataframe tbody tr th {\n",
       "        vertical-align: top;\n",
       "    }\n",
       "\n",
       "    .dataframe thead th {\n",
       "        text-align: right;\n",
       "    }\n",
       "</style>\n",
       "<table border=\"1\" class=\"dataframe\">\n",
       "  <thead>\n",
       "    <tr style=\"text-align: right;\">\n",
       "      <th></th>\n",
       "      <th>travel_from</th>\n",
       "      <th>max_capacity</th>\n",
       "      <th>number_of_ticket</th>\n",
       "      <th>full_date</th>\n",
       "      <th>day_of_week</th>\n",
       "      <th>month</th>\n",
       "      <th>travel_time_type</th>\n",
       "    </tr>\n",
       "    <tr>\n",
       "      <th>ride_id</th>\n",
       "      <th></th>\n",
       "      <th></th>\n",
       "      <th></th>\n",
       "      <th></th>\n",
       "      <th></th>\n",
       "      <th></th>\n",
       "      <th></th>\n",
       "    </tr>\n",
       "  </thead>\n",
       "  <tbody>\n",
       "    <tr>\n",
       "      <th>1442</th>\n",
       "      <td>Migori</td>\n",
       "      <td>49</td>\n",
       "      <td>1</td>\n",
       "      <td>2017-10-17 07:15:00</td>\n",
       "      <td>Tuesday</td>\n",
       "      <td>October</td>\n",
       "      <td>morning</td>\n",
       "    </tr>\n",
       "    <tr>\n",
       "      <th>5437</th>\n",
       "      <td>Migori</td>\n",
       "      <td>49</td>\n",
       "      <td>1</td>\n",
       "      <td>2017-11-19 07:12:00</td>\n",
       "      <td>Sunday</td>\n",
       "      <td>November</td>\n",
       "      <td>morning</td>\n",
       "    </tr>\n",
       "    <tr>\n",
       "      <th>5710</th>\n",
       "      <td>Keroka</td>\n",
       "      <td>49</td>\n",
       "      <td>1</td>\n",
       "      <td>2017-11-26 07:05:00</td>\n",
       "      <td>Sunday</td>\n",
       "      <td>November</td>\n",
       "      <td>morning</td>\n",
       "    </tr>\n",
       "    <tr>\n",
       "      <th>5777</th>\n",
       "      <td>Homa Bay</td>\n",
       "      <td>49</td>\n",
       "      <td>5</td>\n",
       "      <td>2017-11-27 07:10:00</td>\n",
       "      <td>Monday</td>\n",
       "      <td>November</td>\n",
       "      <td>morning</td>\n",
       "    </tr>\n",
       "    <tr>\n",
       "      <th>5778</th>\n",
       "      <td>Migori</td>\n",
       "      <td>49</td>\n",
       "      <td>31</td>\n",
       "      <td>2017-11-27 07:12:00</td>\n",
       "      <td>Monday</td>\n",
       "      <td>November</td>\n",
       "      <td>morning</td>\n",
       "    </tr>\n",
       "  </tbody>\n",
       "</table>\n",
       "</div>"
      ],
      "text/plain": [
       "        travel_from  max_capacity  number_of_ticket           full_date  \\\n",
       "ride_id                                                                   \n",
       "1442         Migori            49                 1 2017-10-17 07:15:00   \n",
       "5437         Migori            49                 1 2017-11-19 07:12:00   \n",
       "5710         Keroka            49                 1 2017-11-26 07:05:00   \n",
       "5777       Homa Bay            49                 5 2017-11-27 07:10:00   \n",
       "5778         Migori            49                31 2017-11-27 07:12:00   \n",
       "\n",
       "        day_of_week     month travel_time_type  \n",
       "ride_id                                         \n",
       "1442        Tuesday   October          morning  \n",
       "5437         Sunday  November          morning  \n",
       "5710         Sunday  November          morning  \n",
       "5777         Monday  November          morning  \n",
       "5778         Monday  November          morning  "
      ]
     },
     "execution_count": 130,
     "metadata": {},
     "output_type": "execute_result"
    }
   ],
   "source": [
    "train_revised.head()"
   ]
  },
  {
   "cell_type": "code",
   "execution_count": 131,
   "id": "8439d26f",
   "metadata": {},
   "outputs": [],
   "source": [
    "# changing categorical columns to category type, some ordered\n",
    "\n",
    "months = [\"January\", \"February\", \"March\", \"April\", \"May\", \"June\", \n",
    "          \"July\", \"August\", \"September\", \"October\", \"November\", \"December\"]\n",
    "days = [\"Monday\", \"Tuesday\", \"Wednesday\", \"Thursday\", \"Friday\", \"Saturday\", \n",
    "          \"Sunday\"]\n",
    "train_revised.month = pd.Categorical(train_revised['month'], categories=months, ordered=True)\n",
    "train_revised.day_of_week = pd.Categorical(train_revised['day_of_week'], categories=days, ordered=True)\n",
    "train_revised.car_type = train_revised.max_capacity.astype(\"category\")\n",
    "train_revised.travel_from = train_revised.travel_from.astype(\"category\")\n",
    "train_revised.travel_time_type = train_revised.travel_time_type.astype(\"category\")"
   ]
  },
  {
   "cell_type": "code",
   "execution_count": 132,
   "id": "ecb33fed",
   "metadata": {},
   "outputs": [],
   "source": [
    "# Shifting the number_of_ticket column to the end to make it look nicer\n",
    "df1 = train_revised.pop('number_of_ticket')\n",
    "train_revised['number_of_ticket'] = df1"
   ]
  },
  {
   "cell_type": "code",
   "execution_count": 133,
   "id": "fb4ec968",
   "metadata": {
    "scrolled": true
   },
   "outputs": [
    {
     "data": {
      "text/html": [
       "<div>\n",
       "<style scoped>\n",
       "    .dataframe tbody tr th:only-of-type {\n",
       "        vertical-align: middle;\n",
       "    }\n",
       "\n",
       "    .dataframe tbody tr th {\n",
       "        vertical-align: top;\n",
       "    }\n",
       "\n",
       "    .dataframe thead th {\n",
       "        text-align: right;\n",
       "    }\n",
       "</style>\n",
       "<table border=\"1\" class=\"dataframe\">\n",
       "  <thead>\n",
       "    <tr style=\"text-align: right;\">\n",
       "      <th></th>\n",
       "      <th>travel_from</th>\n",
       "      <th>max_capacity</th>\n",
       "      <th>full_date</th>\n",
       "      <th>day_of_week</th>\n",
       "      <th>month</th>\n",
       "      <th>travel_time_type</th>\n",
       "      <th>number_of_ticket</th>\n",
       "    </tr>\n",
       "    <tr>\n",
       "      <th>ride_id</th>\n",
       "      <th></th>\n",
       "      <th></th>\n",
       "      <th></th>\n",
       "      <th></th>\n",
       "      <th></th>\n",
       "      <th></th>\n",
       "      <th></th>\n",
       "    </tr>\n",
       "  </thead>\n",
       "  <tbody>\n",
       "    <tr>\n",
       "      <th>1442</th>\n",
       "      <td>Migori</td>\n",
       "      <td>49</td>\n",
       "      <td>2017-10-17 07:15:00</td>\n",
       "      <td>Tuesday</td>\n",
       "      <td>October</td>\n",
       "      <td>morning</td>\n",
       "      <td>1</td>\n",
       "    </tr>\n",
       "    <tr>\n",
       "      <th>5437</th>\n",
       "      <td>Migori</td>\n",
       "      <td>49</td>\n",
       "      <td>2017-11-19 07:12:00</td>\n",
       "      <td>Sunday</td>\n",
       "      <td>November</td>\n",
       "      <td>morning</td>\n",
       "      <td>1</td>\n",
       "    </tr>\n",
       "    <tr>\n",
       "      <th>5710</th>\n",
       "      <td>Keroka</td>\n",
       "      <td>49</td>\n",
       "      <td>2017-11-26 07:05:00</td>\n",
       "      <td>Sunday</td>\n",
       "      <td>November</td>\n",
       "      <td>morning</td>\n",
       "      <td>1</td>\n",
       "    </tr>\n",
       "    <tr>\n",
       "      <th>5777</th>\n",
       "      <td>Homa Bay</td>\n",
       "      <td>49</td>\n",
       "      <td>2017-11-27 07:10:00</td>\n",
       "      <td>Monday</td>\n",
       "      <td>November</td>\n",
       "      <td>morning</td>\n",
       "      <td>5</td>\n",
       "    </tr>\n",
       "    <tr>\n",
       "      <th>5778</th>\n",
       "      <td>Migori</td>\n",
       "      <td>49</td>\n",
       "      <td>2017-11-27 07:12:00</td>\n",
       "      <td>Monday</td>\n",
       "      <td>November</td>\n",
       "      <td>morning</td>\n",
       "      <td>31</td>\n",
       "    </tr>\n",
       "  </tbody>\n",
       "</table>\n",
       "</div>"
      ],
      "text/plain": [
       "        travel_from  max_capacity           full_date day_of_week     month  \\\n",
       "ride_id                                                                       \n",
       "1442         Migori            49 2017-10-17 07:15:00     Tuesday   October   \n",
       "5437         Migori            49 2017-11-19 07:12:00      Sunday  November   \n",
       "5710         Keroka            49 2017-11-26 07:05:00      Sunday  November   \n",
       "5777       Homa Bay            49 2017-11-27 07:10:00      Monday  November   \n",
       "5778         Migori            49 2017-11-27 07:12:00      Monday  November   \n",
       "\n",
       "        travel_time_type  number_of_ticket  \n",
       "ride_id                                     \n",
       "1442             morning                 1  \n",
       "5437             morning                 1  \n",
       "5710             morning                 1  \n",
       "5777             morning                 5  \n",
       "5778             morning                31  "
      ]
     },
     "execution_count": 133,
     "metadata": {},
     "output_type": "execute_result"
    }
   ],
   "source": [
    "train_revised.head()"
   ]
  },
  {
   "cell_type": "code",
   "execution_count": 147,
   "id": "0a4e4d28",
   "metadata": {},
   "outputs": [],
   "source": [
    "#Now its data analysis time! Although we could add some more columns or something if you guys want."
   ]
  },
  {
   "cell_type": "code",
   "execution_count": 158,
   "id": "d07335ec",
   "metadata": {},
   "outputs": [
    {
     "data": {
      "text/plain": [
       "<AxesSubplot:xlabel='number_of_ticket', ylabel='Count'>"
      ]
     },
     "execution_count": 158,
     "metadata": {},
     "output_type": "execute_result"
    },
    {
     "data": {
      "image/png": "[encoded data removed]",
      "text/plain": [
       "<Figure size 432x288 with 1 Axes>"
      ]
     },
     "metadata": {
      "needs_background": "light"
     },
     "output_type": "display_data"
    }
   ],
   "source": [
    "# Most of the rides have 10 or less tickets.\n",
    "sns.histplot(train_revised.number_of_ticket, bins=20)"
   ]
  },
  {
   "cell_type": "code",
   "execution_count": 159,
   "id": "44c02575",
   "metadata": {},
   "outputs": [
    {
     "data": {
      "text/plain": [
       "<AxesSubplot:xlabel='max_capacity', ylabel='count'>"
      ]
     },
     "execution_count": 159,
     "metadata": {},
     "output_type": "execute_result"
    },
    {
     "data": {
      "image/png": "[encoded data removed]",
      "text/plain": [
       "<Figure size 432x288 with 1 Axes>"
      ]
     },
     "metadata": {
      "needs_background": "light"
     },
     "output_type": "display_data"
    }
   ],
   "source": [
    "# There are about the same amount of shuttles and buses in the data\n",
    "sns.countplot(train_revised.max_capacity)"
   ]
  },
  {
   "cell_type": "code",
   "execution_count": 93,
   "id": "31f829d9",
   "metadata": {},
   "outputs": [
    {
     "data": {
      "text/plain": [
       "<AxesSubplot:xlabel='day_of_week', ylabel='count'>"
      ]
     },
     "execution_count": 93,
     "metadata": {},
     "output_type": "execute_result"
    },
    {
     "data": {
      "image/png": "[encoded data removed]",
      "text/plain": [
       "<Figure size 432x288 with 1 Axes>"
      ]
     },
     "metadata": {
      "needs_background": "light"
     },
     "output_type": "display_data"
    }
   ],
   "source": [
    "# It seems that we have less weekend trips in the data but still relatively same amount for each week day.\n",
    "import matplotlib.pyplot as plt\n",
    "plt.xticks(rotation=45)\n",
    "sns.countplot(train_revised.day_of_week)"
   ]
  },
  {
   "cell_type": "code",
   "execution_count": 67,
   "id": "6b606209",
   "metadata": {},
   "outputs": [
    {
     "data": {
      "text/plain": [
       "<AxesSubplot:xlabel='travel_from', ylabel='count'>"
      ]
     },
     "execution_count": 67,
     "metadata": {},
     "output_type": "execute_result"
    },
    {
     "data": {
      "image/png": "[encoded data removed]",
      "text/plain": [
       "<Figure size 432x288 with 1 Axes>"
      ]
     },
     "metadata": {
      "needs_background": "light"
     },
     "output_type": "display_data"
    }
   ],
   "source": [
    "# Almost half of the trips are from Kisii\n",
    "plt.xticks(rotation=90)\n",
    "sns.countplot(train_revised.travel_from)"
   ]
  },
  {
   "cell_type": "code",
   "execution_count": 160,
   "id": "36344a14",
   "metadata": {},
   "outputs": [
    {
     "data": {
      "text/html": [
       "<div>\n",
       "<style scoped>\n",
       "    .dataframe tbody tr th:only-of-type {\n",
       "        vertical-align: middle;\n",
       "    }\n",
       "\n",
       "    .dataframe tbody tr th {\n",
       "        vertical-align: top;\n",
       "    }\n",
       "\n",
       "    .dataframe thead th {\n",
       "        text-align: right;\n",
       "    }\n",
       "</style>\n",
       "<table border=\"1\" class=\"dataframe\">\n",
       "  <thead>\n",
       "    <tr style=\"text-align: right;\">\n",
       "      <th>max_capacity</th>\n",
       "      <th>11</th>\n",
       "      <th>49</th>\n",
       "    </tr>\n",
       "    <tr>\n",
       "      <th>travel_from</th>\n",
       "      <th></th>\n",
       "      <th></th>\n",
       "    </tr>\n",
       "  </thead>\n",
       "  <tbody>\n",
       "    <tr>\n",
       "      <th>Awendo</th>\n",
       "      <td>0</td>\n",
       "      <td>185</td>\n",
       "    </tr>\n",
       "    <tr>\n",
       "      <th>Homa Bay</th>\n",
       "      <td>0</td>\n",
       "      <td>356</td>\n",
       "    </tr>\n",
       "    <tr>\n",
       "      <th>Kehancha</th>\n",
       "      <td>0</td>\n",
       "      <td>172</td>\n",
       "    </tr>\n",
       "    <tr>\n",
       "      <th>Kendu Bay</th>\n",
       "      <td>0</td>\n",
       "      <td>1</td>\n",
       "    </tr>\n",
       "    <tr>\n",
       "      <th>Keroka</th>\n",
       "      <td>149</td>\n",
       "      <td>163</td>\n",
       "    </tr>\n",
       "    <tr>\n",
       "      <th>Keumbu</th>\n",
       "      <td>17</td>\n",
       "      <td>3</td>\n",
       "    </tr>\n",
       "    <tr>\n",
       "      <th>Kijauri</th>\n",
       "      <td>395</td>\n",
       "      <td>161</td>\n",
       "    </tr>\n",
       "    <tr>\n",
       "      <th>Kisii</th>\n",
       "      <td>2499</td>\n",
       "      <td>521</td>\n",
       "    </tr>\n",
       "    <tr>\n",
       "      <th>Mbita</th>\n",
       "      <td>0</td>\n",
       "      <td>21</td>\n",
       "    </tr>\n",
       "    <tr>\n",
       "      <th>Migori</th>\n",
       "      <td>0</td>\n",
       "      <td>386</td>\n",
       "    </tr>\n",
       "    <tr>\n",
       "      <th>Ndhiwa</th>\n",
       "      <td>0</td>\n",
       "      <td>22</td>\n",
       "    </tr>\n",
       "    <tr>\n",
       "      <th>Nyachenge</th>\n",
       "      <td>0</td>\n",
       "      <td>196</td>\n",
       "    </tr>\n",
       "    <tr>\n",
       "      <th>Oyugis</th>\n",
       "      <td>0</td>\n",
       "      <td>2</td>\n",
       "    </tr>\n",
       "    <tr>\n",
       "      <th>Rodi</th>\n",
       "      <td>0</td>\n",
       "      <td>51</td>\n",
       "    </tr>\n",
       "    <tr>\n",
       "      <th>Rongo</th>\n",
       "      <td>0</td>\n",
       "      <td>738</td>\n",
       "    </tr>\n",
       "    <tr>\n",
       "      <th>Sirare</th>\n",
       "      <td>0</td>\n",
       "      <td>191</td>\n",
       "    </tr>\n",
       "    <tr>\n",
       "      <th>Sori</th>\n",
       "      <td>0</td>\n",
       "      <td>20</td>\n",
       "    </tr>\n",
       "  </tbody>\n",
       "</table>\n",
       "</div>"
      ],
      "text/plain": [
       "max_capacity    11   49\n",
       "travel_from            \n",
       "Awendo           0  185\n",
       "Homa Bay         0  356\n",
       "Kehancha         0  172\n",
       "Kendu Bay        0    1\n",
       "Keroka         149  163\n",
       "Keumbu          17    3\n",
       "Kijauri        395  161\n",
       "Kisii         2499  521\n",
       "Mbita            0   21\n",
       "Migori           0  386\n",
       "Ndhiwa           0   22\n",
       "Nyachenge        0  196\n",
       "Oyugis           0    2\n",
       "Rodi             0   51\n",
       "Rongo            0  738\n",
       "Sirare           0  191\n",
       "Sori             0   20"
      ]
     },
     "execution_count": 160,
     "metadata": {},
     "output_type": "execute_result"
    }
   ],
   "source": [
    "# It seems that shuttles from Kisii are the majority of the observations in the data\n",
    "pd.crosstab(train_revised.travel_from, train_revised.max_capacity)"
   ]
  },
  {
   "cell_type": "code",
   "execution_count": 152,
   "id": "d99795ef",
   "metadata": {},
   "outputs": [
    {
     "data": {
      "text/plain": [
       "<seaborn.axisgrid.FacetGrid at 0x2095e58fdf0>"
      ]
     },
     "execution_count": 152,
     "metadata": {},
     "output_type": "execute_result"
    },
    {
     "data": {
      "image/png": "[encoded data removed]",
      "text/plain": [
       "<Figure size 360x720 with 2 Axes>"
      ]
     },
     "metadata": {
      "needs_background": "light"
     },
     "output_type": "display_data"
    }
   ],
   "source": [
    "travel_from_bar = sns.catplot(x = \"travel_from\", y= \"number_of_ticket\", row = \"max_capacity\", data = train_revised, kind = \"bar\")\n",
    "travel_from_bar.set_xticklabels(rotation=90)"
   ]
  },
  {
   "cell_type": "code",
   "execution_count": 70,
   "id": "9aa155b6",
   "metadata": {},
   "outputs": [
    {
     "data": {
      "text/plain": [
       "<AxesSubplot:xlabel='travel_time_type', ylabel='count'>"
      ]
     },
     "execution_count": 70,
     "metadata": {},
     "output_type": "execute_result"
    },
    {
     "data": {
      "image/png": "[encoded data removed]",
      "text/plain": [
       "<Figure size 432x288 with 1 Axes>"
      ]
     },
     "metadata": {
      "needs_background": "light"
     },
     "output_type": "display_data"
    }
   ],
   "source": [
    "# There appear to be no afternoon trips. Most trips occur in the morning.\n",
    "sns.countplot(train_revised.travel_time_type)"
   ]
  },
  {
   "cell_type": "code",
   "execution_count": 162,
   "id": "347a380c",
   "metadata": {},
   "outputs": [
    {
     "data": {
      "text/plain": [
       "<seaborn.axisgrid.FacetGrid at 0x2095ec60280>"
      ]
     },
     "execution_count": 162,
     "metadata": {},
     "output_type": "execute_result"
    },
    {
     "data": {
      "image/png": "[encoded data removed]",
      "text/plain": [
       "<Figure size 360x720 with 2 Axes>"
      ]
     },
     "metadata": {
      "needs_background": "light"
     },
     "output_type": "display_data"
    }
   ],
   "source": [
    "# Night trips sell the most tickets\n",
    "travel_type_bar = sns.catplot(x = \"travel_time_type\", y= \"number_of_ticket\", row = \"max_capacity\", data = train_revised, kind = \"bar\")\n",
    "travel_type_bar.set_xticklabels(rotation=90)"
   ]
  },
  {
   "cell_type": "code",
   "execution_count": 136,
   "id": "a0a89208",
   "metadata": {},
   "outputs": [
    {
     "data": {
      "text/html": [
       "<div>\n",
       "<style scoped>\n",
       "    .dataframe tbody tr th:only-of-type {\n",
       "        vertical-align: middle;\n",
       "    }\n",
       "\n",
       "    .dataframe tbody tr th {\n",
       "        vertical-align: top;\n",
       "    }\n",
       "\n",
       "    .dataframe thead th {\n",
       "        text-align: right;\n",
       "    }\n",
       "</style>\n",
       "<table border=\"1\" class=\"dataframe\">\n",
       "  <thead>\n",
       "    <tr style=\"text-align: right;\">\n",
       "      <th>max_capacity</th>\n",
       "      <th>11</th>\n",
       "      <th>49</th>\n",
       "    </tr>\n",
       "    <tr>\n",
       "      <th>travel_time_type</th>\n",
       "      <th></th>\n",
       "      <th></th>\n",
       "    </tr>\n",
       "  </thead>\n",
       "  <tbody>\n",
       "    <tr>\n",
       "      <th>evening</th>\n",
       "      <td>0</td>\n",
       "      <td>225</td>\n",
       "    </tr>\n",
       "    <tr>\n",
       "      <th>morning</th>\n",
       "      <td>3060</td>\n",
       "      <td>2903</td>\n",
       "    </tr>\n",
       "    <tr>\n",
       "      <th>night</th>\n",
       "      <td>0</td>\n",
       "      <td>61</td>\n",
       "    </tr>\n",
       "  </tbody>\n",
       "</table>\n",
       "</div>"
      ],
      "text/plain": [
       "max_capacity        11    49\n",
       "travel_time_type            \n",
       "evening              0   225\n",
       "morning           3060  2903\n",
       "night                0    61"
      ]
     },
     "execution_count": 136,
     "metadata": {},
     "output_type": "execute_result"
    }
   ],
   "source": [
    "#Shuttles are only in the morning\n",
    "pd.crosstab(train_revised.travel_time_type, train_revised.max_capacity)"
   ]
  },
  {
   "cell_type": "code",
   "execution_count": 148,
   "id": "b96c67cd",
   "metadata": {},
   "outputs": [
    {
     "data": {
      "text/plain": [
       "<seaborn.axisgrid.FacetGrid at 0x2095c1f4f10>"
      ]
     },
     "execution_count": 148,
     "metadata": {},
     "output_type": "execute_result"
    },
    {
     "data": {
      "image/png": "[encoded data removed]",
      "text/plain": [
       "<Figure size 360x720 with 2 Axes>"
      ]
     },
     "metadata": {
      "needs_background": "light"
     },
     "output_type": "display_data"
    }
   ],
   "source": [
    "ticket_per_month = sns.catplot(x = \"month\", y= \"number_of_ticket\", row = \"max_capacity\", data = train_revised, kind = \"box\")\n",
    "ticket_per_month.set_xticklabels(rotation=45)"
   ]
  },
  {
   "cell_type": "code",
   "execution_count": 149,
   "id": "f6f51795",
   "metadata": {},
   "outputs": [
    {
     "data": {
      "text/plain": [
       "<seaborn.axisgrid.FacetGrid at 0x2095c203370>"
      ]
     },
     "execution_count": 149,
     "metadata": {},
     "output_type": "execute_result"
    },
    {
     "data": {
      "image/png": "[encoded data removed]",
      "text/plain": [
       "<Figure size 360x720 with 2 Axes>"
      ]
     },
     "metadata": {
      "needs_background": "light"
     },
     "output_type": "display_data"
    }
   ],
   "source": [
    "# It seems that monthly trends are differnt for shuttles and buses. Shuttles appear to be more volatile in monthly ticket sales.\n",
    "\n",
    "ticket_per_month_line = sns.relplot(x = \"month\", y= \"number_of_ticket\", row = \"max_capacity\", data = train_revised, kind = \"line\")\n",
    "ticket_per_month_line.set_xticklabels(rotation=45)"
   ]
  },
  {
   "cell_type": "code",
   "execution_count": 146,
   "id": "5d9eaf7a",
   "metadata": {},
   "outputs": [
    {
     "data": {
      "text/plain": [
       "<seaborn.axisgrid.FacetGrid at 0x2095bfe7370>"
      ]
     },
     "execution_count": 146,
     "metadata": {},
     "output_type": "execute_result"
    },
    {
     "data": {
      "image/png": "[encoded data removed]",
      "text/plain": [
       "<Figure size 360x720 with 2 Axes>"
      ]
     },
     "metadata": {
      "needs_background": "light"
     },
     "output_type": "display_data"
    }
   ],
   "source": [
    "ticket_per_day = sns.catplot(x = \"day_of_week\", y= \"number_of_ticket\", row = \"max_capacity\", data = train_revised, kind = \"box\")\n",
    "ticket_per_day.set_xticklabels(rotation=45)"
   ]
  },
  {
   "cell_type": "code",
   "execution_count": 147,
   "id": "6ca5963f",
   "metadata": {},
   "outputs": [
    {
     "data": {
      "text/plain": [
       "<seaborn.axisgrid.FacetGrid at 0x20957d70f10>"
      ]
     },
     "execution_count": 147,
     "metadata": {},
     "output_type": "execute_result"
    },
    {
     "data": {
      "image/png": "[encoded data removed]",
      "text/plain": [
       "<Figure size 360x720 with 2 Axes>"
      ]
     },
     "metadata": {
      "needs_background": "light"
     },
     "output_type": "display_data"
    }
   ],
   "source": [
    "# Shuttles appear to sell less on the weekend and more during the weekdays. Buses sell the least during Monday and Tuesday but stabilize afterwards.\n",
    "ticket_per_day_line = sns.relplot(x = \"day_of_week\", y= \"number_of_ticket\", row = \"max_capacity\", data = train_revised, kind = \"line\")\n",
    "ticket_per_day_line.set_xticklabels(rotation=45)"
   ]
  },
  {
   "cell_type": "code",
   "execution_count": 141,
   "id": "338b5f9c",
   "metadata": {},
   "outputs": [
    {
     "data": {
      "text/html": [
       "<div>\n",
       "<style scoped>\n",
       "    .dataframe tbody tr th:only-of-type {\n",
       "        vertical-align: middle;\n",
       "    }\n",
       "\n",
       "    .dataframe tbody tr th {\n",
       "        vertical-align: top;\n",
       "    }\n",
       "\n",
       "    .dataframe thead th {\n",
       "        text-align: right;\n",
       "    }\n",
       "</style>\n",
       "<table border=\"1\" class=\"dataframe\">\n",
       "  <thead>\n",
       "    <tr style=\"text-align: right;\">\n",
       "      <th></th>\n",
       "      <th>travel_from</th>\n",
       "      <th>max_capacity</th>\n",
       "      <th>full_date</th>\n",
       "      <th>day_of_week</th>\n",
       "      <th>month</th>\n",
       "      <th>travel_time_type</th>\n",
       "      <th>number_of_ticket</th>\n",
       "    </tr>\n",
       "    <tr>\n",
       "      <th>ride_id</th>\n",
       "      <th></th>\n",
       "      <th></th>\n",
       "      <th></th>\n",
       "      <th></th>\n",
       "      <th></th>\n",
       "      <th></th>\n",
       "      <th></th>\n",
       "    </tr>\n",
       "  </thead>\n",
       "  <tbody>\n",
       "    <tr>\n",
       "      <th>8454</th>\n",
       "      <td>Sirare</td>\n",
       "      <td>49</td>\n",
       "      <td>2018-09-01 07:00:00</td>\n",
       "      <td>Saturday</td>\n",
       "      <td>September</td>\n",
       "      <td>morning</td>\n",
       "      <td>50</td>\n",
       "    </tr>\n",
       "  </tbody>\n",
       "</table>\n",
       "</div>"
      ],
      "text/plain": [
       "        travel_from  max_capacity           full_date day_of_week      month  \\\n",
       "ride_id                                                                        \n",
       "8454         Sirare            49 2018-09-01 07:00:00    Saturday  September   \n",
       "\n",
       "        travel_time_type  number_of_ticket  \n",
       "ride_id                                     \n",
       "8454             morning                50  "
      ]
     },
     "execution_count": 141,
     "metadata": {},
     "output_type": "execute_result"
    }
   ],
   "source": [
    "# Here we have a potential outlier since it says that there are 50 tickets solds but the max capacity is 49. \n",
    "#I am not sure how to deal with it though.\n",
    "train_revised.loc[train_revised.number_of_ticket >49]"
   ]
  }
 ],
 "metadata": {
  "kernelspec": {
   "display_name": "Python 3",
   "language": "python",
   "name": "python3"
  },
  "language_info": {
   "codemirror_mode": {
    "name": "ipython",
    "version": 3
   },
   "file_extension": ".py",
   "mimetype": "text/x-python",
   "name": "python",
   "nbconvert_exporter": "python",
   "pygments_lexer": "ipython3",
   "version": "3.8.8"
  }
 },
 "nbformat": 4,
 "nbformat_minor": 5
}
