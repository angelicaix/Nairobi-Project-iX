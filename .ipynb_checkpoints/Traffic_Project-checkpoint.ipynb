{
 "cells": [
  {
   "cell_type": "code",
   "execution_count": 1,
   "metadata": {},
   "outputs": [
    {
     "name": "stdout",
     "output_type": "stream",
     "text": [
      "Project workbook\n"
     ]
    }
   ],
   "source": [
    "print(\"Project workbook\")"
   ]
  },
  {
   "cell_type": "code",
   "execution_count": 3,
   "metadata": {},
   "outputs": [],
   "source": [
    "import pandas as pd"
   ]
  },
  {
   "cell_type": "code",
   "execution_count": 4,
   "metadata": {},
   "outputs": [],
   "source": [
    "df = pd.read_csv(\"C:\\\\Users\\\\18005\\\\OneDrive\\\\Documents\\\\GitHub\\\\Project3-Traffic-Jam\\\\project\\\\train_revised.csv\")"
   ]
  },
  {
   "cell_type": "code",
   "execution_count": 5,
   "metadata": {},
   "outputs": [],
   "source": [
    "df = df.drop(columns=[\"seat_number\", \"ride_id\", \"payment_receipt\", \"travel_date\", \"max_capacity\",\"payment_method\"])\n",
    "df = df[(df.travel_to == 'Nairobi') & (df.car_type == 'Bus')]\n",
    "df = df.drop(columns = [\"travel_to\",\"car_type\"])\n",
    "df = df.drop_duplicates()"
   ]
  },
  {
   "cell_type": "code",
   "execution_count": 6,
   "metadata": {},
   "outputs": [
    {
     "data": {
      "text/html": [
       "<div>\n",
       "<style scoped>\n",
       "    .dataframe tbody tr th:only-of-type {\n",
       "        vertical-align: middle;\n",
       "    }\n",
       "\n",
       "    .dataframe tbody tr th {\n",
       "        vertical-align: top;\n",
       "    }\n",
       "\n",
       "    .dataframe thead th {\n",
       "        text-align: right;\n",
       "    }\n",
       "</style>\n",
       "<table border=\"1\" class=\"dataframe\">\n",
       "  <thead>\n",
       "    <tr style=\"text-align: right;\">\n",
       "      <th></th>\n",
       "      <th>travel_time</th>\n",
       "      <th>travel_from</th>\n",
       "    </tr>\n",
       "  </thead>\n",
       "  <tbody>\n",
       "    <tr>\n",
       "      <th>0</th>\n",
       "      <td>7:15</td>\n",
       "      <td>Migori</td>\n",
       "    </tr>\n",
       "    <tr>\n",
       "      <th>1</th>\n",
       "      <td>7:12</td>\n",
       "      <td>Migori</td>\n",
       "    </tr>\n",
       "    <tr>\n",
       "      <th>2</th>\n",
       "      <td>7:05</td>\n",
       "      <td>Keroka</td>\n",
       "    </tr>\n",
       "    <tr>\n",
       "      <th>3</th>\n",
       "      <td>7:10</td>\n",
       "      <td>Homa Bay</td>\n",
       "    </tr>\n",
       "    <tr>\n",
       "      <th>9</th>\n",
       "      <td>7:09</td>\n",
       "      <td>Homa Bay</td>\n",
       "    </tr>\n",
       "    <tr>\n",
       "      <th>...</th>\n",
       "      <td>...</td>\n",
       "      <td>...</td>\n",
       "    </tr>\n",
       "    <tr>\n",
       "      <th>48055</th>\n",
       "      <td>7:05</td>\n",
       "      <td>Ndhiwa</td>\n",
       "    </tr>\n",
       "    <tr>\n",
       "      <th>48327</th>\n",
       "      <td>7:10</td>\n",
       "      <td>Rodi</td>\n",
       "    </tr>\n",
       "    <tr>\n",
       "      <th>49796</th>\n",
       "      <td>23:09</td>\n",
       "      <td>Nyachenge</td>\n",
       "    </tr>\n",
       "    <tr>\n",
       "      <th>51299</th>\n",
       "      <td>5:00</td>\n",
       "      <td>Kisii</td>\n",
       "    </tr>\n",
       "    <tr>\n",
       "      <th>51644</th>\n",
       "      <td>5:10</td>\n",
       "      <td>Kisii</td>\n",
       "    </tr>\n",
       "  </tbody>\n",
       "</table>\n",
       "<p>124 rows × 2 columns</p>\n",
       "</div>"
      ],
      "text/plain": [
       "      travel_time travel_from\n",
       "0            7:15      Migori\n",
       "1            7:12      Migori\n",
       "2            7:05      Keroka\n",
       "3            7:10    Homa Bay\n",
       "9            7:09    Homa Bay\n",
       "...           ...         ...\n",
       "48055        7:05      Ndhiwa\n",
       "48327        7:10        Rodi\n",
       "49796       23:09   Nyachenge\n",
       "51299        5:00       Kisii\n",
       "51644        5:10       Kisii\n",
       "\n",
       "[124 rows x 2 columns]"
      ]
     },
     "execution_count": 6,
     "metadata": {},
     "output_type": "execute_result"
    }
   ],
   "source": [
    "df"
   ]
  },
  {
   "cell_type": "code",
   "execution_count": 7,
   "metadata": {},
   "outputs": [
    {
     "data": {
      "text/plain": [
       "7:08     0.064516\n",
       "7:04     0.056452\n",
       "7:05     0.056452\n",
       "7:13     0.056452\n",
       "7:15     0.048387\n",
       "7:00     0.048387\n",
       "7:09     0.048387\n",
       "7:12     0.048387\n",
       "8:00     0.048387\n",
       "7:14     0.040323\n",
       "19:07    0.040323\n",
       "7:02     0.040323\n",
       "7:11     0.040323\n",
       "7:10     0.040323\n",
       "7:03     0.040323\n",
       "6:59     0.040323\n",
       "23:10    0.032258\n",
       "7:07     0.032258\n",
       "7:06     0.024194\n",
       "19:04    0.024194\n",
       "19:05    0.024194\n",
       "19:03    0.024194\n",
       "19:06    0.024194\n",
       "23:09    0.024194\n",
       "7:01     0.016129\n",
       "5:10     0.008065\n",
       "5:00     0.008065\n",
       "Name: travel_time, dtype: float64"
      ]
     },
     "execution_count": 7,
     "metadata": {},
     "output_type": "execute_result"
    }
   ],
   "source": [
    "df.travel_time.value_counts(normalize = True)"
   ]
  },
  {
   "cell_type": "code",
   "execution_count": null,
   "metadata": {},
   "outputs": [],
   "source": []
  }
 ],
 "metadata": {
  "kernelspec": {
   "display_name": "Python 3",
   "language": "python",
   "name": "python3"
  },
  "language_info": {
   "codemirror_mode": {
    "name": "ipython",
    "version": 3
   },
   "file_extension": ".py",
   "mimetype": "text/x-python",
   "name": "python",
   "nbconvert_exporter": "python",
   "pygments_lexer": "ipython3",
   "version": "3.8.5"
  }
 },
 "nbformat": 4,
 "nbformat_minor": 5
}
